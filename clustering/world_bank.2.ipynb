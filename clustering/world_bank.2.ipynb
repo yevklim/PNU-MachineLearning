{
 "cells": [
  {
   "cell_type": "code",
   "execution_count": 9,
   "metadata": {},
   "outputs": [],
   "source": [
    "import os\n",
    "import pandas as pd\n",
    "from sklearn.model_selection import train_test_split\n",
    "from sklearn.linear_model import LinearRegression\n",
    "from sklearn.metrics import mean_squared_error\n",
    "import numpy as np"
   ]
  },
  {
   "cell_type": "code",
   "execution_count": 15,
   "metadata": {},
   "outputs": [],
   "source": [
    "folder_path = \"dataset/source/world_bank/extracted\"\n",
    "\n",
    "# Initialize an empty DataFrame to store predictions\n",
    "all_predictions = pd.DataFrame()\n",
    "\n",
    "# Loop through files in the folder\n",
    "for filename in os.listdir(folder_path):\n",
    "    if filename.endswith(\".csv\"):\n",
    "        file_path = os.path.join(folder_path, filename)\n",
    "\n",
    "        # Read data from CSV file from 3 row\n",
    "        data = pd.read_csv(file_path, header=2)\n",
    "\n",
    "        # Filter data for the desired indicator and relevant columns\n",
    "        relevant_columns = [\"Country Name\", \"Country Code\", \"Indicator Name\"] + list(map(str, range(1960, 2023)))\n",
    "        data = data[data[\"Indicator Name\"].str.startswith(\"Population ages\") & data[\"Indicator Name\"].str.endswith(\"total\")]\n",
    "        data = data[relevant_columns]\n",
    "\n",
    "        # Melt the DataFrame\n",
    "        data = pd.melt(data, id_vars=[\"Country Name\", \"Country Code\", \"Indicator Name\"], var_name=\"Year\", value_name=\"Population\")\n",
    "\n",
    "        # Pivot the DataFrame to have years as columns\n",
    "        data = data.pivot_table(index=[\"Country Name\", \"Country Code\", \"Indicator Name\"], columns=\"Year\", values=\"Population\").reset_index()\n",
    "\n",
    "        # Prepare data for training\n",
    "        X = data.drop([\"Country Name\", \"Country Code\", \"Indicator Name\"], axis=1)\n",
    "        y = X.pop(\"2022\")  # Use 2022 as the target variable for training\n",
    "\n",
    "        # Initialize and train a linear regression model\n",
    "        model = LinearRegression()\n",
    "        model.fit(X, y)\n",
    "\n",
    "        # Make predictions for the years 2023-2030\n",
    "        future_years = list(map(str, range(2023, 2031)))\n",
    "        future_data = data[[\"Country Name\", \"Country Code\", \"Indicator Name\"]].copy()\n",
    "\n",
    "        # Create a DataFrame with predictions\n",
    "        predictions_df = pd.DataFrame(index=range(len(future_data)))\n",
    "        predictions_df[[\"Country Name\", \"Country Code\", \"Indicator Name\"]] = future_data[[\"Country Name\", \"Country Code\", \"Indicator Name\"]]\n",
    "\n",
    "        # Assign predictions to the DataFrame\n",
    "        for year in future_years:\n",
    "            predictions_df[year] = model.predict(X)\n",
    "\n",
    "        # Concatenate the predictions DataFrame with future_data\n",
    "        future_data = pd.concat([future_data, predictions_df.drop([\"Country Name\", \"Country Code\", \"Indicator Name\"], axis=1)], axis=1)\n",
    "\n",
    "        # Melt the future DataFrame\n",
    "        future_data = pd.melt(future_data, id_vars=[\"Country Name\", \"Country Code\", \"Indicator Name\"], var_name=\"Year\", value_name=\"Population\")\n",
    "\n",
    "        # Extract 'Year' from the melted column\n",
    "        future_data[\"Year\"] = future_data[\"Year\"].str.extract('(\\d+)', expand=False)\n",
    "\n",
    "        # Convert 'Population' to numeric\n",
    "        future_data[\"Population\"] = pd.to_numeric(future_data[\"Population\"], errors=\"coerce\")\n",
    "\n",
    "        # Append predictions to the overall DataFrame\n",
    "        all_predictions = pd.concat([all_predictions, future_data], ignore_index=True)\n",
    "\n",
    "# Save predictions to a CSV file\n",
    "all_predictions.to_csv(\"population_predictions.csv\", index=False)"
   ]
  }
 ],
 "metadata": {
  "kernelspec": {
   "display_name": "Python 3.11.7 ('.env': venv)",
   "language": "python",
   "name": "python3"
  },
  "language_info": {
   "codemirror_mode": {
    "name": "ipython",
    "version": 3
   },
   "file_extension": ".py",
   "mimetype": "text/x-python",
   "name": "python",
   "nbconvert_exporter": "python",
   "pygments_lexer": "ipython3",
   "version": "3.11.7"
  },
  "orig_nbformat": 4,
  "vscode": {
   "interpreter": {
    "hash": "08c43e92bfc61fc1bdb18d40a4eab51813e7e0c80fe0c6f6fa3803f2276d536b"
   }
  }
 },
 "nbformat": 4,
 "nbformat_minor": 2
}
